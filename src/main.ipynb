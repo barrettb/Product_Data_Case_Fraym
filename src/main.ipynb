{
 "cells": [
  {
   "cell_type": "code",
   "execution_count": 1,
   "metadata": {},
   "outputs": [
    {
     "name": "stderr",
     "output_type": "stream",
     "text": [
      "C:\\Users\\peppe\\AppData\\Local\\Temp\\ipykernel_26196\\2666124188.py:2: DeprecationWarning: \n",
      "Pyarrow will become a required dependency of pandas in the next major release of pandas (pandas 3.0),\n",
      "(to allow more performant data types, such as the Arrow string type, and better interoperability with other libraries)\n",
      "but was not found to be installed on your system.\n",
      "If this would cause problems for you,\n",
      "please provide us feedback at https://github.com/pandas-dev/pandas/issues/54466\n",
      "        \n",
      "  import pandas as pd\n"
     ]
    }
   ],
   "source": [
    "import os.path\n",
    "import pandas as pd\n",
    "import geopandas as gpd\n",
    "from shapely.geometry import Point\n",
    "pd.set_option('display.max_columns', None)\n"
   ]
  },
  {
   "cell_type": "code",
   "execution_count": 2,
   "metadata": {},
   "outputs": [
    {
     "name": "stderr",
     "output_type": "stream",
     "text": [
      "C:\\Users\\peppe\\AppData\\Local\\Temp\\ipykernel_26196\\429215169.py:16: DtypeWarning: Columns (33) have mixed types. Specify dtype option on import or set low_memory=False.\n",
      "  key_socio_sect2_harvestw4 = pd.read_csv(file_paths[2])\n",
      "C:\\Users\\peppe\\AppData\\Local\\Temp\\ipykernel_26196\\429215169.py:18: DtypeWarning: Columns (13,22) have mixed types. Specify dtype option on import or set low_memory=False.\n",
      "  foodspending_sect10b_harvestw4 = pd.read_csv(file_paths[4])\n"
     ]
    }
   ],
   "source": [
    "def read_csv_files(): #reads in data from csv files in sheet\n",
    "    data_dir = './../data/raw'\n",
    "    #selecting file paths\n",
    "    file_paths = [\n",
    "        os.path.join(data_dir, 'nga_U5_population.xls'),\n",
    "        os.path.join(data_dir, 'NGA_2018_GHSP-W4_v03_M_CSV', 'sect1_harvestw4.csv'),\n",
    "        os.path.join(data_dir, 'NGA_2018_GHSP-W4_v03_M_CSV', 'sect2_harvestw4.csv'),\n",
    "        os.path.join(data_dir, 'NGA_2018_GHSP-W4_v03_M_CSV', 'nga_householdgeovars_y4.csv'),\n",
    "        os.path.join(data_dir, 'NGA_2018_GHSP-W4_v03_M_CSV', 'sect10b_harvestw4.csv'),\n",
    "        os.path.join(data_dir, 'NGA_2018_GHSP-W4_v03_M_CSV', 'secta1_harvestw4.csv')\n",
    "    ]\n",
    "    \n",
    "    #reading in indidual csv files containing the survey data\n",
    "    states_under5_pop = pd.read_excel(file_paths[0])\n",
    "    key_socio_sect1_harvestw4 = pd.read_csv(file_paths[1])\n",
    "    key_socio_sect2_harvestw4 = pd.read_csv(file_paths[2])\n",
    "    nga_householdgeovars_y4 = pd.read_csv(file_paths[3])\n",
    "    foodspending_sect10b_harvestw4 = pd.read_csv(file_paths[4])\n",
    "    hhidagland_secta1_harvestw4 = pd.read_csv(file_paths[5])\n",
    "    #reading the shape files\n",
    "    households_gdf = gpd.read_file(os.path.join(data_dir, 'NG_202404', 'NG_202404_ML1.shp')) #shp files for spatial joins\n",
    "    households_gdf2 = gpd.read_file(os.path.join(data_dir, 'NG_202404', 'NG_202404_ML2.shp'))\n",
    "    \n",
    "    return states_under5_pop, key_socio_sect1_harvestw4, key_socio_sect2_harvestw4, nga_householdgeovars_y4, foodspending_sect10b_harvestw4, hhidagland_secta1_harvestw4, households_gdf, households_gdf2\n",
    "states_under5_pop, key_socio_sect1_harvestw4, key_socio_sect2_harvestw4, nga_householdgeovars_y4, foodspending_sect10b_harvestw4, hhidagland_secta1_harvestw4, households_gdf, households_gdf2 = read_csv_files()"
   ]
  },
  {
   "cell_type": "code",
   "execution_count": 3,
   "metadata": {},
   "outputs": [
    {
     "name": "stderr",
     "output_type": "stream",
     "text": [
      "C:\\Users\\peppe\\AppData\\Local\\Packages\\PythonSoftwareFoundation.Python.3.11_qbz5n2kfra8p0\\LocalCache\\local-packages\\Python311\\site-packages\\IPython\\core\\interactiveshell.py:3553: FutureWarning: The `op` parameter is deprecated and will be removed in a future release. Please use the `predicate` parameter instead.\n",
      "  exec(code_obj, self.user_global_ns, self.user_ns)\n"
     ]
    }
   ],
   "source": [
    "columns_to_keep = [\"ADMIN1\", \"ADMIN2\", \"ADMIN3\", \"LZNAME\", \"ML1\", \"geometry\"] #column names from boundary data (state data) that is used to merge points within\n",
    "\n",
    "def spatial_join(remaining_cols, hhid_data, boundary_data): \n",
    "    # Filter columns in boundary_data\n",
    "    boundary_data = boundary_data[remaining_cols]   \n",
    "    \n",
    "    # Convert latitude and longitude columns to geometry for merging\n",
    "    hhid_data['latitude_longitude'] = gpd.points_from_xy(hhid_data['lon_dd_mod'], hhid_data['lat_dd_mod']) \n",
    "    hhid_data = gpd.GeoDataFrame(hhid_data)\n",
    "    hhid_data = hhid_data.set_geometry(\"latitude_longitude\")\n",
    "    hhid_data.crs = 'EPSG:4326' \n",
    "    \n",
    "    # Convert hhid_data to the same CRS as boundary_data\n",
    "    hhid_data = hhid_data.to_crs('EPSG:4326')\n",
    "    \n",
    "    # Spatial join\n",
    "    hhid_data = gpd.sjoin(hhid_data, boundary_data, how='inner', op='within') \n",
    "    \n",
    "    # Drop unnecessary columns from the spatial join\n",
    "    hhid_data = hhid_data.drop(columns=['index_right']) \n",
    "    \n",
    "    # Rename the 'ML1' column to 'at_risk_of_famine' in hhid_data\n",
    "    if 'ML1' in hhid_data.columns:\n",
    "        hhid_data.rename(columns={'ML1': 'at_risk_of_famine_current'}, inplace=True)\n",
    "        hhid_data = hhid_data[['hhid', 'ADMIN1', 'ADMIN2', 'at_risk_of_famine_current']]\n",
    "\n",
    "    elif 'ML2' in hhid_data.columns:\n",
    "        hhid_data.rename(columns={'ML2': 'at_risk_of_famine_future'}, inplace=True)\n",
    "        hhid_data = hhid_data[['hhid', 'ADMIN1', 'ADMIN2', 'at_risk_of_famine_future']]\n",
    "\n",
    "   \n",
    "    \n",
    "    return hhid_data\n",
    "\n",
    "\n",
    "master = spatial_join(columns_to_keep, nga_householdgeovars_y4, households_gdf)\n",
    "\n"
   ]
  },
  {
   "cell_type": "code",
   "execution_count": 4,
   "metadata": {},
   "outputs": [
    {
     "name": "stderr",
     "output_type": "stream",
     "text": [
      "C:\\Users\\peppe\\AppData\\Local\\Packages\\PythonSoftwareFoundation.Python.3.11_qbz5n2kfra8p0\\LocalCache\\local-packages\\Python311\\site-packages\\IPython\\core\\interactiveshell.py:3553: FutureWarning: The `op` parameter is deprecated and will be removed in a future release. Please use the `predicate` parameter instead.\n",
      "  exec(code_obj, self.user_global_ns, self.user_ns)\n"
     ]
    }
   ],
   "source": [
    "#appending future at risk of famine column\n",
    "columns = [\"ADMIN1\", \"ADMIN2\", \"ADMIN3\", \"LZNAME\", \"ML2\", \"geometry\"]\n",
    "master2 = spatial_join(columns,nga_householdgeovars_y4,households_gdf2)\n",
    "master = master.merge(master2, on='hhid', how='left')\n"
   ]
  },
  {
   "cell_type": "code",
   "execution_count": 5,
   "metadata": {},
   "outputs": [
    {
     "data": {
      "text/plain": [
       "Index(['hhid', 'ADMIN1_x', 'ADMIN2_x', 'at_risk_of_famine_current', 'ADMIN1_y',\n",
       "       'ADMIN2_y', 'at_risk_of_famine_future'],\n",
       "      dtype='object')"
      ]
     },
     "execution_count": 5,
     "metadata": {},
     "output_type": "execute_result"
    }
   ],
   "source": [
    "master.columns"
   ]
  },
  {
   "cell_type": "code",
   "execution_count": 6,
   "metadata": {},
   "outputs": [
    {
     "data": {
      "text/html": [
       "<div>\n",
       "<style scoped>\n",
       "    .dataframe tbody tr th:only-of-type {\n",
       "        vertical-align: middle;\n",
       "    }\n",
       "\n",
       "    .dataframe tbody tr th {\n",
       "        vertical-align: top;\n",
       "    }\n",
       "\n",
       "    .dataframe thead th {\n",
       "        text-align: right;\n",
       "    }\n",
       "</style>\n",
       "<table border=\"1\" class=\"dataframe\">\n",
       "  <thead>\n",
       "    <tr style=\"text-align: right;\">\n",
       "      <th></th>\n",
       "      <th>hhid</th>\n",
       "      <th>at_risk_of_famine_current</th>\n",
       "      <th>ADMIN1_y</th>\n",
       "      <th>ADMIN2_y</th>\n",
       "      <th>at_risk_of_famine_future</th>\n",
       "    </tr>\n",
       "  </thead>\n",
       "  <tbody>\n",
       "    <tr>\n",
       "      <th>0</th>\n",
       "      <td>10001</td>\n",
       "      <td>1</td>\n",
       "      <td>Abia</td>\n",
       "      <td>None</td>\n",
       "      <td>2</td>\n",
       "    </tr>\n",
       "    <tr>\n",
       "      <th>1</th>\n",
       "      <td>10002</td>\n",
       "      <td>1</td>\n",
       "      <td>Abia</td>\n",
       "      <td>None</td>\n",
       "      <td>2</td>\n",
       "    </tr>\n",
       "    <tr>\n",
       "      <th>2</th>\n",
       "      <td>10003</td>\n",
       "      <td>1</td>\n",
       "      <td>Abia</td>\n",
       "      <td>None</td>\n",
       "      <td>2</td>\n",
       "    </tr>\n",
       "    <tr>\n",
       "      <th>3</th>\n",
       "      <td>10004</td>\n",
       "      <td>1</td>\n",
       "      <td>Abia</td>\n",
       "      <td>None</td>\n",
       "      <td>2</td>\n",
       "    </tr>\n",
       "    <tr>\n",
       "      <th>4</th>\n",
       "      <td>10005</td>\n",
       "      <td>1</td>\n",
       "      <td>Abia</td>\n",
       "      <td>None</td>\n",
       "      <td>2</td>\n",
       "    </tr>\n",
       "    <tr>\n",
       "      <th>...</th>\n",
       "      <td>...</td>\n",
       "      <td>...</td>\n",
       "      <td>...</td>\n",
       "      <td>...</td>\n",
       "      <td>...</td>\n",
       "    </tr>\n",
       "    <tr>\n",
       "      <th>5102</th>\n",
       "      <td>379148</td>\n",
       "      <td>2</td>\n",
       "      <td>Federal Capital Territory</td>\n",
       "      <td>None</td>\n",
       "      <td>2</td>\n",
       "    </tr>\n",
       "    <tr>\n",
       "      <th>5103</th>\n",
       "      <td>379151</td>\n",
       "      <td>2</td>\n",
       "      <td>Federal Capital Territory</td>\n",
       "      <td>None</td>\n",
       "      <td>2</td>\n",
       "    </tr>\n",
       "    <tr>\n",
       "      <th>5104</th>\n",
       "      <td>379152</td>\n",
       "      <td>2</td>\n",
       "      <td>Federal Capital Territory</td>\n",
       "      <td>None</td>\n",
       "      <td>2</td>\n",
       "    </tr>\n",
       "    <tr>\n",
       "      <th>5105</th>\n",
       "      <td>379154</td>\n",
       "      <td>2</td>\n",
       "      <td>Federal Capital Territory</td>\n",
       "      <td>None</td>\n",
       "      <td>2</td>\n",
       "    </tr>\n",
       "    <tr>\n",
       "      <th>5106</th>\n",
       "      <td>379155</td>\n",
       "      <td>2</td>\n",
       "      <td>Federal Capital Territory</td>\n",
       "      <td>None</td>\n",
       "      <td>2</td>\n",
       "    </tr>\n",
       "  </tbody>\n",
       "</table>\n",
       "<p>5107 rows × 5 columns</p>\n",
       "</div>"
      ],
      "text/plain": [
       "        hhid  at_risk_of_famine_current                   ADMIN1_y ADMIN2_y  \\\n",
       "0      10001                          1                       Abia     None   \n",
       "1      10002                          1                       Abia     None   \n",
       "2      10003                          1                       Abia     None   \n",
       "3      10004                          1                       Abia     None   \n",
       "4      10005                          1                       Abia     None   \n",
       "...      ...                        ...                        ...      ...   \n",
       "5102  379148                          2  Federal Capital Territory     None   \n",
       "5103  379151                          2  Federal Capital Territory     None   \n",
       "5104  379152                          2  Federal Capital Territory     None   \n",
       "5105  379154                          2  Federal Capital Territory     None   \n",
       "5106  379155                          2  Federal Capital Territory     None   \n",
       "\n",
       "      at_risk_of_famine_future  \n",
       "0                            2  \n",
       "1                            2  \n",
       "2                            2  \n",
       "3                            2  \n",
       "4                            2  \n",
       "...                        ...  \n",
       "5102                         2  \n",
       "5103                         2  \n",
       "5104                         2  \n",
       "5105                         2  \n",
       "5106                         2  \n",
       "\n",
       "[5107 rows x 5 columns]"
      ]
     },
     "execution_count": 6,
     "metadata": {},
     "output_type": "execute_result"
    }
   ],
   "source": [
    "master.drop(columns=['ADMIN1_x','ADMIN2_x'])"
   ]
  },
  {
   "cell_type": "code",
   "execution_count": 7,
   "metadata": {},
   "outputs": [],
   "source": [
    "#Merging socioeconomic datat\n",
    "def socio_merge(hhid_data):\n",
    "    \n",
    "    hhid_data = pd.merge(key_socio_sect1_harvestw4, hhid_data, on='hhid', how='inner')\n",
    "    #Adding questions from socio survey\n",
    "    hhid_data = hhid_data[['hhid', 'ADMIN1_y', 'ADMIN2_y', 'at_risk_of_famine_current','at_risk_of_famine_future','indiv','s1q2','s1q4a','s1q4','s1q7','s1q11','s1q17','s1q18','s1q20','s1q21','s1q22','s1q23','s1q30']]\n",
    "    hhid_data.rename(columns={'s1q2': 'sex', 's1q4a': 'member_of_household','s1q4':'age','s1q7':'marital_status','s1q11' : 'partner_in_household','s1q17': 'religion','s1q18': 'father_in_household', 's1q20': 'father_alive' ,'s1q21':'highest_father_education','s1q22':'father_industry','s1q23':'mother_in_household','s1q30':'in_nigeria'}, inplace=True)\n",
    "    hhid_data['household_size'] = master.groupby('hhid')['hhid'].transform('count')\n",
    "    merged_soc = pd.merge(key_socio_sect2_harvestw4[['hhid', 's2aq3', 's2aq5', 's2aq6','indiv']], hhid_data, on=['hhid', 'indiv'], how='inner')\n",
    "    merged_soc = merged_soc.rename(columns={'s2aq3': 'answering_for_self', 's2aq5': 'read_or_write', 's2aq6': 'attended_school'})\n",
    "    return merged_soc\n",
    "socio_df = socio_merge(master)\n"
   ]
  },
  {
   "cell_type": "code",
   "execution_count": 8,
   "metadata": {},
   "outputs": [],
   "source": [
    "#Merging food spending data\n",
    "def food_df(social_data):\n",
    "    #Creating new column for foodspending by household in last 30 days\n",
    "    sum_by_hhid = foodspending_sect10b_harvestw4.groupby('hhid')['s10bq10'].sum()\n",
    "    sum_by_hhid_df = sum_by_hhid.reset_index(name='total_spent_on_food_in_last_30')\n",
    "    merged_food = pd.merge(social_data, sum_by_hhid_df, on='hhid', how='inner')\n",
    "    return merged_food\n",
    "merged_food_df = food_df(socio_df)"
   ]
  },
  {
   "cell_type": "code",
   "execution_count": 9,
   "metadata": {},
   "outputs": [],
   "source": [
    "def under_5_pop_df(merged_food):\n",
    "    #column that shows the under 5 population in the state the survey respondent lives in\n",
    "    merged_food = merged_food.rename(columns={'ADMIN1_y': 'State'})\n",
    "    merged_food = pd.merge(merged_food, states_under5_pop, on='State', how='inner')\n",
    "    return merged_food\n",
    "under_5_df = under_5_pop_df(merged_food_df)"
   ]
  },
  {
   "cell_type": "code",
   "execution_count": 10,
   "metadata": {},
   "outputs": [],
   "source": [
    "#adding farming related questions\n",
    "def land_df(population_df):\n",
    "    population_df = pd.merge(population_df, hhidagland_secta1_harvestw4[['hhid', 'zone', 'state', 'lga', 'sector', 'ea', 'sa1q1aa', 'prefilled_gps_area', 'sa1q6', 'sa1q11']], on='hhid', how='inner')\n",
    "    population_df = population_df.drop_duplicates(subset=['hhid', 'indiv'])\n",
    "    master = population_df.rename(columns={'sa1q1aa': 'cultiavted_plot', 'sa1q6': 'plot_cost', 'sa1q11': 'plot_area','ADMIN2': 'city'})\n",
    "\n",
    "    return master\n",
    "master = land_df(under_5_df)"
   ]
  },
  {
   "cell_type": "code",
   "execution_count": 11,
   "metadata": {},
   "outputs": [
    {
     "ename": "",
     "evalue": "",
     "output_type": "error",
     "traceback": [
      "\u001b[1;31mThe Kernel crashed while executing code in the current cell or a previous cell. \n",
      "\u001b[1;31mPlease review the code in the cell(s) to identify a possible cause of the failure. \n",
      "\u001b[1;31mClick <a href='https://aka.ms/vscodeJupyterKernelCrash'>here</a> for more info. \n",
      "\u001b[1;31mView Jupyter <a href='command:jupyter.viewOutput'>log</a> for further details."
     ]
    }
   ],
   "source": [
    "#convert dataset to excel workbook\n",
    "master.to_excel('master_data.xlsx', index=False)\n"
   ]
  }
 ],
 "metadata": {
  "kernelspec": {
   "display_name": "Python 3",
   "language": "python",
   "name": "python3"
  },
  "language_info": {
   "codemirror_mode": {
    "name": "ipython",
    "version": 3
   },
   "file_extension": ".py",
   "mimetype": "text/x-python",
   "name": "python",
   "nbconvert_exporter": "python",
   "pygments_lexer": "ipython3",
   "version": "3.11.9"
  }
 },
 "nbformat": 4,
 "nbformat_minor": 2
}
